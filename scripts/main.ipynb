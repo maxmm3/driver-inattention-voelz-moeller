{
 "cells": [
  {
   "cell_type": "code",
   "execution_count": 1,
   "metadata": {},
   "outputs": [
    {
     "name": "stderr",
     "output_type": "stream",
     "text": [
      "2024-07-23 14:34:39.860341: I tensorflow/core/platform/cpu_feature_guard.cc:210] This TensorFlow binary is optimized to use available CPU instructions in performance-critical operations.\n",
      "To enable the following instructions: AVX2 FMA, in other operations, rebuild TensorFlow with the appropriate compiler flags.\n",
      "2024-07-23 14:34:48.807347: W tensorflow/compiler/tf2tensorrt/utils/py_utils.cc:38] TF-TRT Warning: Could not find TensorRT\n"
     ]
    }
   ],
   "source": [
    "import numpy as np\n",
    "import matplotlib.pyplot as plt\n",
    "import tensorflow as tf\n",
    "import json\n",
    "import pandas as pd"
   ]
  },
  {
   "cell_type": "code",
   "execution_count": 5,
   "metadata": {},
   "outputs": [
    {
     "name": "stdout",
     "output_type": "stream",
     "text": [
      "[[1 0 0 0 0 0]\n",
      " [0 1 0 0 0 0]\n",
      " [0 0 0 1 0 0]\n",
      " ...\n",
      " [0 0 0 1 0 0]\n",
      " [0 0 0 1 0 0]\n",
      " [0 1 0 0 0 0]]\n"
     ]
    }
   ],
   "source": [
    "classes_train_og = pd.read_csv('../data/train/_classes.csv', delimiter=',', index_col=0).to_numpy()\n",
    "classes_test_og = pd.read_csv('../data/test/_classes.csv', delimiter=',', index_col=0).to_numpy()\n",
    "classes_valid_og = pd.read_csv('../data/valid/_classes.csv', delimiter=',', index_col=0).to_numpy()\n",
    "\n",
    "classes_aug = pd.read_csv('../data/labels_aug_v2.csv', delimiter=',', index_col=0).to_numpy()"
   ]
  },
  {
   "cell_type": "code",
   "execution_count": 4,
   "metadata": {},
   "outputs": [],
   "source": [
    "with open('../data/valid.json',\"r\") as f:\n",
    "    data = json.load(f)\n",
    "    valid_og = np.array(data)\n",
    "\n",
    "with open('../data/test.json',\"r\") as f:\n",
    "    data = json.load(f)\n",
    "    test_og = np.array(data)\n",
    "\n",
    "with open('../data/train.json',\"r\") as f:\n",
    "    data = json.load(f)\n",
    "    train_og = np.array(data)\n",
    "\n",
    "with open('../data/labels_aug_v2.json',\"r\") as f:\n",
    "    data = json.load(f)\n",
    "    aug = np.array(data)"
   ]
  },
  {
   "cell_type": "code",
   "execution_count": 5,
   "metadata": {},
   "outputs": [],
   "source": [
    "from tensorflow.keras.callbacks import EarlyStopping\n",
    "from sklearn.model_selection import RandomizedSearchCV\n",
    "# from scikeras.wrappers import KerasClassifier"
   ]
  },
  {
   "cell_type": "code",
   "execution_count": 6,
   "metadata": {},
   "outputs": [],
   "source": [
    "X_train_og = train_og/255.0\n",
    "y_train_og = classes_train_og\n",
    "#only use first 10% of the data\n",
    "X_train_og = X_train_og[:int(len(X_train_og)/10)]\n",
    "y_train_og = y_train_og[:int(len(y_train_og)/10)]\n",
    "\n",
    "X_valid_og = valid_og/255.0\n",
    "y_valid_og = classes_valid_og\n",
    "#only use first 10% of the data\n",
    "X_valid_og = X_valid_og[:int(len(X_valid_og)/10)]\n",
    "y_valid_og = y_valid_og[:int(len(y_valid_og)/10)]\n",
    "\n",
    "X_test = test_og/255.0\n",
    "y_test = classes_test_og\n",
    "\n",
    "X_aug = aug/255.0\n",
    "y_aug = classes_aug\n",
    "\n",
    "from sklearn.model_selection import train_test_split\n",
    "X_aug_train_val, X_aug_test, y_aug_train_val, y_aug_test = train_test_split(X_aug, y_aug, test_size=0.07, random_state=42)\n",
    "\n",
    "# Second split: 75% of train+val (60% of total) for training, 25% of train+val (20% of total) for validation\n",
    "X_aug_train, X_aug_val, y_aug_train, y_aug_val = train_test_split(X_aug_train_val, y_aug_train_val, test_size=0.14, random_state=42)"
   ]
  },
  {
   "cell_type": "code",
   "execution_count": 7,
   "metadata": {},
   "outputs": [
    {
     "name": "stdout",
     "output_type": "stream",
     "text": [
      "Epoch 1/100\n"
     ]
    },
    {
     "name": "stderr",
     "output_type": "stream",
     "text": [
      "2024-07-16 14:17:30.747341: W external/local_tsl/tsl/framework/cpu_allocator_impl.cc:83] Allocation of 146841600 exceeds 10% of free system memory.\n",
      "2024-07-16 14:17:33.780970: W external/local_tsl/tsl/framework/cpu_allocator_impl.cc:83] Allocation of 491847680 exceeds 10% of free system memory.\n",
      "2024-07-16 14:17:34.553148: W external/local_tsl/tsl/framework/cpu_allocator_impl.cc:83] Allocation of 480509952 exceeds 10% of free system memory.\n",
      "2024-07-16 14:17:36.032044: W external/local_tsl/tsl/framework/cpu_allocator_impl.cc:83] Allocation of 938606592 exceeds 10% of free system memory.\n",
      "2024-07-16 14:17:38.278748: W external/local_tsl/tsl/framework/cpu_allocator_impl.cc:83] Allocation of 103612416 exceeds 10% of free system memory.\n"
     ]
    },
    {
     "name": "stdout",
     "output_type": "stream",
     "text": [
      "\u001b[1m19/19\u001b[0m \u001b[32m━━━━━━━━━━━━━━━━━━━━\u001b[0m\u001b[37m\u001b[0m \u001b[1m255s\u001b[0m 13s/step - accuracy: 0.2957 - loss: 9.1942 - val_accuracy: 0.4583 - val_loss: 7.0026\n",
      "Epoch 2/100\n",
      "\u001b[1m19/19\u001b[0m \u001b[32m━━━━━━━━━━━━━━━━━━━━\u001b[0m\u001b[37m\u001b[0m \u001b[1m277s\u001b[0m 15s/step - accuracy: 0.3941 - loss: 6.6776 - val_accuracy: 0.5104 - val_loss: 5.2758\n",
      "Epoch 3/100\n",
      "\u001b[1m19/19\u001b[0m \u001b[32m━━━━━━━━━━━━━━━━━━━━\u001b[0m\u001b[37m\u001b[0m \u001b[1m269s\u001b[0m 14s/step - accuracy: 0.4740 - loss: 5.0721 - val_accuracy: 0.5521 - val_loss: 4.2652\n",
      "Epoch 4/100\n",
      "\u001b[1m19/19\u001b[0m \u001b[32m━━━━━━━━━━━━━━━━━━━━\u001b[0m\u001b[37m\u001b[0m \u001b[1m240s\u001b[0m 13s/step - accuracy: 0.5287 - loss: 4.1729 - val_accuracy: 0.4583 - val_loss: 3.7955\n",
      "Epoch 5/100\n",
      "\u001b[1m19/19\u001b[0m \u001b[32m━━━━━━━━━━━━━━━━━━━━\u001b[0m\u001b[37m\u001b[0m \u001b[1m235s\u001b[0m 12s/step - accuracy: 0.5417 - loss: 3.6536 - val_accuracy: 0.5781 - val_loss: 3.3088\n",
      "Epoch 6/100\n",
      "\u001b[1m19/19\u001b[0m \u001b[32m━━━━━━━━━━━━━━━━━━━━\u001b[0m\u001b[37m\u001b[0m \u001b[1m241s\u001b[0m 13s/step - accuracy: 0.5618 - loss: 3.3040 - val_accuracy: 0.6719 - val_loss: 2.9819\n",
      "Epoch 7/100\n",
      "\u001b[1m19/19\u001b[0m \u001b[32m━━━━━━━━━━━━━━━━━━━━\u001b[0m\u001b[37m\u001b[0m \u001b[1m242s\u001b[0m 13s/step - accuracy: 0.6841 - loss: 2.9091 - val_accuracy: 0.7135 - val_loss: 2.7428\n",
      "Epoch 8/100\n",
      "\u001b[1m19/19\u001b[0m \u001b[32m━━━━━━━━━━━━━━━━━━━━\u001b[0m\u001b[37m\u001b[0m \u001b[1m238s\u001b[0m 13s/step - accuracy: 0.6811 - loss: 2.7427 - val_accuracy: 0.7396 - val_loss: 2.5913\n",
      "Epoch 9/100\n",
      "\u001b[1m19/19\u001b[0m \u001b[32m━━━━━━━━━━━━━━━━━━━━\u001b[0m\u001b[37m\u001b[0m \u001b[1m242s\u001b[0m 13s/step - accuracy: 0.6993 - loss: 2.6203 - val_accuracy: 0.6771 - val_loss: 2.6605\n",
      "Epoch 10/100\n",
      "\u001b[1m19/19\u001b[0m \u001b[32m━━━━━━━━━━━━━━━━━━━━\u001b[0m\u001b[37m\u001b[0m \u001b[1m252s\u001b[0m 13s/step - accuracy: 0.7509 - loss: 2.4738 - val_accuracy: 0.7031 - val_loss: 2.5091\n",
      "Epoch 11/100\n",
      "\u001b[1m19/19\u001b[0m \u001b[32m━━━━━━━━━━━━━━━━━━━━\u001b[0m\u001b[37m\u001b[0m \u001b[1m258s\u001b[0m 14s/step - accuracy: 0.7493 - loss: 2.3046 - val_accuracy: 0.7344 - val_loss: 2.3405\n",
      "Epoch 12/100\n",
      "\u001b[1m19/19\u001b[0m \u001b[32m━━━━━━━━━━━━━━━━━━━━\u001b[0m\u001b[37m\u001b[0m \u001b[1m268s\u001b[0m 14s/step - accuracy: 0.8218 - loss: 2.0997 - val_accuracy: 0.7292 - val_loss: 2.2341\n",
      "Epoch 13/100\n",
      "\u001b[1m19/19\u001b[0m \u001b[32m━━━━━━━━━━━━━━━━━━━━\u001b[0m\u001b[37m\u001b[0m \u001b[1m273s\u001b[0m 14s/step - accuracy: 0.7947 - loss: 2.0226 - val_accuracy: 0.7917 - val_loss: 2.1080\n",
      "Epoch 14/100\n",
      "\u001b[1m19/19\u001b[0m \u001b[32m━━━━━━━━━━━━━━━━━━━━\u001b[0m\u001b[37m\u001b[0m \u001b[1m247s\u001b[0m 13s/step - accuracy: 0.7748 - loss: 2.0454 - val_accuracy: 0.7448 - val_loss: 2.3399\n",
      "Epoch 15/100\n",
      "\u001b[1m19/19\u001b[0m \u001b[32m━━━━━━━━━━━━━━━━━━━━\u001b[0m\u001b[37m\u001b[0m \u001b[1m262s\u001b[0m 14s/step - accuracy: 0.8057 - loss: 1.9918 - val_accuracy: 0.7917 - val_loss: 2.0954\n",
      "Epoch 16/100\n",
      "\u001b[1m19/19\u001b[0m \u001b[32m━━━━━━━━━━━━━━━━━━━━\u001b[0m\u001b[37m\u001b[0m \u001b[1m258s\u001b[0m 14s/step - accuracy: 0.8073 - loss: 1.9107 - val_accuracy: 0.7500 - val_loss: 2.1491\n",
      "Epoch 17/100\n",
      "\u001b[1m19/19\u001b[0m \u001b[32m━━━━━━━━━━━━━━━━━━━━\u001b[0m\u001b[37m\u001b[0m \u001b[1m248s\u001b[0m 13s/step - accuracy: 0.7961 - loss: 1.9415 - val_accuracy: 0.7552 - val_loss: 2.0520\n",
      "Epoch 18/100\n",
      "\u001b[1m19/19\u001b[0m \u001b[32m━━━━━━━━━━━━━━━━━━━━\u001b[0m\u001b[37m\u001b[0m \u001b[1m302s\u001b[0m 16s/step - accuracy: 0.7862 - loss: 1.9163 - val_accuracy: 0.7500 - val_loss: 2.0360\n",
      "Epoch 19/100\n",
      "\u001b[1m19/19\u001b[0m \u001b[32m━━━━━━━━━━━━━━━━━━━━\u001b[0m\u001b[37m\u001b[0m \u001b[1m293s\u001b[0m 15s/step - accuracy: 0.8513 - loss: 1.6883 - val_accuracy: 0.7969 - val_loss: 1.8801\n",
      "Epoch 20/100\n",
      "\u001b[1m19/19\u001b[0m \u001b[32m━━━━━━━━━━━━━━━━━━━━\u001b[0m\u001b[37m\u001b[0m \u001b[1m262s\u001b[0m 14s/step - accuracy: 0.8652 - loss: 1.5104 - val_accuracy: 0.7917 - val_loss: 1.6762\n",
      "Epoch 21/100\n",
      "\u001b[1m19/19\u001b[0m \u001b[32m━━━━━━━━━━━━━━━━━━━━\u001b[0m\u001b[37m\u001b[0m \u001b[1m259s\u001b[0m 14s/step - accuracy: 0.8993 - loss: 1.3622 - val_accuracy: 0.7917 - val_loss: 1.6636\n",
      "Epoch 22/100\n",
      "\u001b[1m19/19\u001b[0m \u001b[32m━━━━━━━━━━━━━━━━━━━━\u001b[0m\u001b[37m\u001b[0m \u001b[1m1807s\u001b[0m 100s/step - accuracy: 0.8977 - loss: 1.2799 - val_accuracy: 0.7760 - val_loss: 1.7267\n",
      "Epoch 23/100\n",
      "\u001b[1m19/19\u001b[0m \u001b[32m━━━━━━━━━━━━━━━━━━━━\u001b[0m\u001b[37m\u001b[0m \u001b[1m1649s\u001b[0m 91s/step - accuracy: 0.8711 - loss: 1.3052 - val_accuracy: 0.7604 - val_loss: 1.7607\n",
      "Epoch 24/100\n",
      "\u001b[1m19/19\u001b[0m \u001b[32m━━━━━━━━━━━━━━━━━━━━\u001b[0m\u001b[37m\u001b[0m \u001b[1m5930s\u001b[0m 328s/step - accuracy: 0.8744 - loss: 1.2792 - val_accuracy: 0.8073 - val_loss: 1.6169\n",
      "Epoch 25/100\n",
      "\u001b[1m19/19\u001b[0m \u001b[32m━━━━━━━━━━━━━━━━━━━━\u001b[0m\u001b[37m\u001b[0m \u001b[1m245s\u001b[0m 13s/step - accuracy: 0.8785 - loss: 1.2936 - val_accuracy: 0.7917 - val_loss: 1.6549\n",
      "Epoch 26/100\n",
      "\u001b[1m19/19\u001b[0m \u001b[32m━━━━━━━━━━━━━━━━━━━━\u001b[0m\u001b[37m\u001b[0m \u001b[1m246s\u001b[0m 13s/step - accuracy: 0.8764 - loss: 1.2854 - val_accuracy: 0.7969 - val_loss: 1.5682\n",
      "Epoch 27/100\n",
      "\u001b[1m19/19\u001b[0m \u001b[32m━━━━━━━━━━━━━━━━━━━━\u001b[0m\u001b[37m\u001b[0m \u001b[1m1089s\u001b[0m 60s/step - accuracy: 0.8873 - loss: 1.2223 - val_accuracy: 0.7969 - val_loss: 1.5757\n",
      "Epoch 28/100\n",
      "\u001b[1m19/19\u001b[0m \u001b[32m━━━━━━━━━━━━━━━━━━━━\u001b[0m\u001b[37m\u001b[0m \u001b[1m256s\u001b[0m 14s/step - accuracy: 0.9150 - loss: 1.1506 - val_accuracy: 0.7917 - val_loss: 1.4763\n",
      "Epoch 29/100\n",
      "\u001b[1m19/19\u001b[0m \u001b[32m━━━━━━━━━━━━━━━━━━━━\u001b[0m\u001b[37m\u001b[0m \u001b[1m269s\u001b[0m 14s/step - accuracy: 0.9143 - loss: 1.1212 - val_accuracy: 0.7917 - val_loss: 1.5437\n",
      "Epoch 30/100\n",
      "\u001b[1m19/19\u001b[0m \u001b[32m━━━━━━━━━━━━━━━━━━━━\u001b[0m\u001b[37m\u001b[0m \u001b[1m279s\u001b[0m 15s/step - accuracy: 0.8894 - loss: 1.1168 - val_accuracy: 0.7812 - val_loss: 1.6731\n",
      "Epoch 31/100\n",
      "\u001b[1m 9/19\u001b[0m \u001b[32m━━━━━━━━━\u001b[0m\u001b[37m━━━━━━━━━━━\u001b[0m \u001b[1m2:17\u001b[0m 14s/step - accuracy: 0.9023 - loss: 1.0977"
     ]
    }
   ],
   "source": [
    "from keras.optimizers import Adam\n",
    "class model_init:\n",
    "    def __init__(self, classes, input_shape, num_dense_layers, num_dense_units, num_conv_layers, filters, kernel_size, pool_size, dropout_rate):\n",
    "        \"\"\"\n",
    "        Initialize the model with the given parameters\n",
    "        \"\"\"\n",
    "        self.classes = classes\n",
    "        self.input_shape = input_shape\n",
    "        self.num_dense_layers = num_dense_layers\n",
    "        self.num_dense_units = num_dense_units\n",
    "        self.num_conv_layers = num_conv_layers\n",
    "        self.filters = filters\n",
    "        self.kernel_size = kernel_size\n",
    "        self.pool_size = pool_size\n",
    "        self.dropout_rate = dropout_rate\n",
    "\n",
    "        self.model = self.build_model()\n",
    "\n",
    "    def conv_block(self, input, filters, kernel_size, pool_size):\n",
    "        \"\"\"\n",
    "        Convolutional block with Conv2D, Activation and MaxPooling2D layers\n",
    "        \"\"\"\n",
    "        x = tf.keras.layers.Conv2D(filters, kernel_size, padding=\"valid\", activation=\"elu\")(input)\n",
    "        x = tf.keras.layers.Conv2D(filters, kernel_size, padding=\"valid\", activation=\"elu\")(x)\n",
    "        x = tf.keras.layers.Conv2D(2*filters, kernel_size, padding=\"valid\", activation=\"elu\")(x)\n",
    "        x = tf.keras.layers.MaxPooling2D(pool_size)(x)\n",
    "        return x\n",
    "    \n",
    "    def dense_block(self, input, units, dropout):\n",
    "        \"\"\"\n",
    "        Dense block with Dense, Activation and Dropout layers\n",
    "        \"\"\"\n",
    "        x = tf.keras.layers.Dense(units, activation=\"elu\", kernel_regularizer=tf.keras.regularizers.l2(0.01))(input)\n",
    "        x = tf.keras.layers.Dropout(dropout)(x)\n",
    "        return x\n",
    "    \n",
    "    def build_model(self):\n",
    "        \"\"\"\n",
    "        Build the model with the given parameters\n",
    "        \"\"\"\n",
    "        input = tf.keras.layers.Input(shape=self.input_shape)\n",
    "\n",
    "        x = self.conv_block(input, self.filters, self.kernel_size, self.pool_size)\n",
    "        for i in range(self.num_conv_layers - 1):\n",
    "            x = self.conv_block(x, self.filters, self.kernel_size, self.pool_size)\n",
    "        \n",
    "        x = tf.keras.layers.BatchNormalization()(x)\n",
    "        x = tf.keras.layers.Activation(\"elu\")(x)\n",
    "        x = tf.keras.layers.Dropout(self.dropout_rate)(x)\n",
    "\n",
    "        x = self.conv_block(input, self.filters, self.kernel_size, self.pool_size)\n",
    "        for i in range(self.num_conv_layers - 1):\n",
    "            x = self.conv_block(x, self.filters, self.kernel_size, self.pool_size)\n",
    "\n",
    "        x = tf.keras.layers.Flatten()(x)\n",
    "        \n",
    "        for i in range(self.num_dense_layers):\n",
    "            x = self.dense_block(x, self.num_dense_units, self.dropout_rate)\n",
    "        output = tf.keras.layers.Dense(self.classes, activation=\"softmax\")(x)\n",
    "        model = tf.keras.Model(inputs=input, outputs=output)\n",
    "        return model\n",
    "    \n",
    "\n",
    "\n",
    "model = model_init(6, input_shape=(X_train_og[0].shape[0], X_train_og[0].shape[1], 1), num_dense_layers=2, num_dense_units=256, num_conv_layers=2, filters=64, kernel_size=(3, 3), pool_size=(3, 3), dropout_rate=0.6)\n",
    "\n",
    "model = model.build_model()\n",
    "\n",
    "early_stopping = EarlyStopping(monitor=\"val_loss\", patience=10, restore_best_weights=True)\n",
    "\n",
    "optimizer = Adam(learning_rate=0.0005)\n",
    "\n",
    "model.compile(optimizer=optimizer, loss=\"categorical_crossentropy\", metrics=[\"accuracy\"])\n",
    "\n",
    "history = model.fit(X_train_og, y_train_og, batch_size=64, epochs=100, validation_data=(X_valid_og, y_valid_og), callbacks=[early_stopping])"
   ]
  },
  {
   "cell_type": "code",
   "execution_count": null,
   "metadata": {},
   "outputs": [
    {
     "data": {
      "text/plain": [
       "<matplotlib.legend.Legend at 0x7f216c3d50c0>"
      ]
     },
     "execution_count": 10,
     "metadata": {},
     "output_type": "execute_result"
    },
    {
     "data": {
      "image/png": "[encoded data removed]",
      "text/plain": [
       "<Figure size 640x480 with 1 Axes>"
      ]
     },
     "metadata": {},
     "output_type": "display_data"
    }
   ],
   "source": [
    "#plot the training and validation loss\n",
    "plt.plot(history.history[\"loss\"], label=\"Training Loss\")\n",
    "plt.plot(history.history[\"val_loss\"], label=\"Validation Loss\")\n",
    "plt.legend()"
   ]
  }
 ],
 "metadata": {
  "kernelspec": {
   "display_name": "ml",
   "language": "python",
   "name": "python3"
  },
  "language_info": {
   "codemirror_mode": {
    "name": "ipython",
    "version": 3
   },
   "file_extension": ".py",
   "mimetype": "text/x-python",
   "name": "python",
   "nbconvert_exporter": "python",
   "pygments_lexer": "ipython3",
   "version": "3.10.11"
  }
 },
 "nbformat": 4,
 "nbformat_minor": 2
}
